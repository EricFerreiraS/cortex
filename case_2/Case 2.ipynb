{
 "cells": [
  {
   "cell_type": "markdown",
   "metadata": {},
   "source": [
    "# Case 2\n",
    "## Leitura de arquivo e funções de agregação"
   ]
  },
  {
   "cell_type": "code",
   "execution_count": 1,
   "metadata": {
    "collapsed": true
   },
   "outputs": [],
   "source": [
    "import pandas as pd"
   ]
  },
  {
   "cell_type": "code",
   "execution_count": 2,
   "metadata": {
    "collapsed": true
   },
   "outputs": [],
   "source": [
    "#leitura do arquivo\n",
    "df = pd.read_csv(\"[Case Cortex - Eng dados Sr] Exercicio 2_ Base vendas - Base_Vendas_SQL.csv\") "
   ]
  },
  {
   "cell_type": "code",
   "execution_count": 22,
   "metadata": {
    "collapsed": false
   },
   "outputs": [
    {
     "name": "stdout",
     "output_type": "stream",
     "text": [
      "<class 'pandas.core.frame.DataFrame'>\n",
      "RangeIndex: 600 entries, 0 to 599\n",
      "Data columns (total 10 columns):\n",
      "Pedido               600 non-null int64\n",
      "Nome Produto         600 non-null object\n",
      "Categoria Produto    600 non-null object\n",
      "Nome Cliente         600 non-null object\n",
      "Vendedor             600 non-null object\n",
      "Loja                 600 non-null object\n",
      "Quantidade           600 non-null int64\n",
      "Preço Unitário       600 non-null object\n",
      "Desconto             600 non-null object\n",
      "Desconto_numeric     600 non-null float64\n",
      "dtypes: float64(1), int64(2), object(7)\n",
      "memory usage: 47.0+ KB\n"
     ]
    }
   ],
   "source": [
    "#informações sobre as colunas\n",
    "df.info()"
   ]
  },
  {
   "cell_type": "code",
   "execution_count": 3,
   "metadata": {
    "collapsed": false
   },
   "outputs": [
    {
     "data": {
      "text/html": [
       "<div>\n",
       "<table border=\"1\" class=\"dataframe\">\n",
       "  <thead>\n",
       "    <tr style=\"text-align: right;\">\n",
       "      <th></th>\n",
       "      <th>Pedido</th>\n",
       "      <th>Nome Produto</th>\n",
       "      <th>Categoria Produto</th>\n",
       "      <th>Nome Cliente</th>\n",
       "      <th>Vendedor</th>\n",
       "      <th>Loja</th>\n",
       "      <th>Quantidade</th>\n",
       "      <th>Preço Unitário</th>\n",
       "      <th>Desconto</th>\n",
       "    </tr>\n",
       "  </thead>\n",
       "  <tbody>\n",
       "    <tr>\n",
       "      <th>0</th>\n",
       "      <td>47208725</td>\n",
       "      <td>Condicionador Seda Limpeza Micelar by Niina Se...</td>\n",
       "      <td>HIGIENE</td>\n",
       "      <td>WRGG ROCHA COMERCIAL EIRELI</td>\n",
       "      <td>D</td>\n",
       "      <td>RJ</td>\n",
       "      <td>6</td>\n",
       "      <td>7,24</td>\n",
       "      <td>1,05</td>\n",
       "    </tr>\n",
       "    <tr>\n",
       "      <th>1</th>\n",
       "      <td>47389781</td>\n",
       "      <td>Desodorante Aerosol Rexona Clinical Feminino E...</td>\n",
       "      <td>HIGIENE</td>\n",
       "      <td>WALTER RICARDO FERNANDES - ME</td>\n",
       "      <td>G</td>\n",
       "      <td>SP</td>\n",
       "      <td>3</td>\n",
       "      <td>9,98</td>\n",
       "      <td>0</td>\n",
       "    </tr>\n",
       "    <tr>\n",
       "      <th>2</th>\n",
       "      <td>46760354</td>\n",
       "      <td>Condicionador Seda Liso Perfeito e Sedoso 325m...</td>\n",
       "      <td>HIGIENE</td>\n",
       "      <td>WALTER CORREIA DE BRITO PERFUMARIA - ME</td>\n",
       "      <td>G</td>\n",
       "      <td>SP</td>\n",
       "      <td>6</td>\n",
       "      <td>6,26</td>\n",
       "      <td>0</td>\n",
       "    </tr>\n",
       "    <tr>\n",
       "      <th>3</th>\n",
       "      <td>47361050</td>\n",
       "      <td>Condicionador Suave Naturals Hidratação e Nutr...</td>\n",
       "      <td>HIGIENE</td>\n",
       "      <td>WALTER CORREIA DE BRITO PERFUMARIA - ME</td>\n",
       "      <td>G</td>\n",
       "      <td>SP</td>\n",
       "      <td>6</td>\n",
       "      <td>5,96</td>\n",
       "      <td>0,3</td>\n",
       "    </tr>\n",
       "    <tr>\n",
       "      <th>4</th>\n",
       "      <td>46759796</td>\n",
       "      <td>Condicionador Dove Nutrição Óleo Micelar 200ml...</td>\n",
       "      <td>HIGIENE</td>\n",
       "      <td>WALTER CORREIA DE BRITO PERFUMARIA - ME</td>\n",
       "      <td>G</td>\n",
       "      <td>SP</td>\n",
       "      <td>6</td>\n",
       "      <td>6,65</td>\n",
       "      <td>0,53</td>\n",
       "    </tr>\n",
       "  </tbody>\n",
       "</table>\n",
       "</div>"
      ],
      "text/plain": [
       "     Pedido                                       Nome Produto  \\\n",
       "0  47208725  Condicionador Seda Limpeza Micelar by Niina Se...   \n",
       "1  47389781  Desodorante Aerosol Rexona Clinical Feminino E...   \n",
       "2  46760354  Condicionador Seda Liso Perfeito e Sedoso 325m...   \n",
       "3  47361050  Condicionador Suave Naturals Hidratação e Nutr...   \n",
       "4  46759796  Condicionador Dove Nutrição Óleo Micelar 200ml...   \n",
       "\n",
       "  Categoria Produto                             Nome Cliente Vendedor Loja  \\\n",
       "0           HIGIENE              WRGG ROCHA COMERCIAL EIRELI        D   RJ   \n",
       "1           HIGIENE            WALTER RICARDO FERNANDES - ME        G   SP   \n",
       "2           HIGIENE  WALTER CORREIA DE BRITO PERFUMARIA - ME        G   SP   \n",
       "3           HIGIENE  WALTER CORREIA DE BRITO PERFUMARIA - ME        G   SP   \n",
       "4           HIGIENE  WALTER CORREIA DE BRITO PERFUMARIA - ME        G   SP   \n",
       "\n",
       "   Quantidade Preço Unitário Desconto  \n",
       "0           6           7,24     1,05  \n",
       "1           3           9,98        0  \n",
       "2           6           6,26        0  \n",
       "3           6           5,96      0,3  \n",
       "4           6           6,65     0,53  "
      ]
     },
     "execution_count": 3,
     "metadata": {},
     "output_type": "execute_result"
    }
   ],
   "source": [
    "#primeiras linhas do dataframe\n",
    "df.head()"
   ]
  },
  {
   "cell_type": "markdown",
   "metadata": {},
   "source": [
    "## 1ª pergunta\n",
    "### A quantidade vendida de itens de Alimentos pelo vendedor A da loja do Rio de Janeiro"
   ]
  },
  {
   "cell_type": "code",
   "execution_count": 4,
   "metadata": {
    "collapsed": false
   },
   "outputs": [
    {
     "data": {
      "text/plain": [
       "array(['HIGIENE', 'BEBIDAS', 'CASA', 'ALIMENTOS'], dtype=object)"
      ]
     },
     "execution_count": 4,
     "metadata": {},
     "output_type": "execute_result"
    }
   ],
   "source": [
    "#lista de categorias\n",
    "df['Categoria Produto'].unique()"
   ]
  },
  {
   "cell_type": "code",
   "execution_count": 6,
   "metadata": {
    "collapsed": false
   },
   "outputs": [
    {
     "data": {
      "text/plain": [
       "array(['D', 'G', 'E', 'A', 'B', 'C', 'F'], dtype=object)"
      ]
     },
     "execution_count": 6,
     "metadata": {},
     "output_type": "execute_result"
    }
   ],
   "source": [
    "#lista de vendedores\n",
    "df['Vendedor'].unique()"
   ]
  },
  {
   "cell_type": "code",
   "execution_count": 7,
   "metadata": {
    "collapsed": false
   },
   "outputs": [
    {
     "data": {
      "text/plain": [
       "array(['RJ', 'SP'], dtype=object)"
      ]
     },
     "execution_count": 7,
     "metadata": {},
     "output_type": "execute_result"
    }
   ],
   "source": [
    "#lista de lojas\n",
    "df['Loja'].unique()"
   ]
  },
  {
   "cell_type": "code",
   "execution_count": 5,
   "metadata": {
    "collapsed": false
   },
   "outputs": [
    {
     "data": {
      "text/plain": [
       "1320"
      ]
     },
     "execution_count": 5,
     "metadata": {},
     "output_type": "execute_result"
    }
   ],
   "source": [
    "df.loc[(df['Categoria Produto'] == 'ALIMENTOS') & (df['Vendedor'] == 'A') & (df['Loja']== 'RJ'), 'Quantidade'].sum()"
   ]
  },
  {
   "cell_type": "markdown",
   "metadata": {},
   "source": [
    "## Resposta da 1ª pergunta\n",
    "### A quantidade vendida de itens de Alimentos pelo vendedor A da loja do Rio de Janeiro é igual a 1320 itens"
   ]
  },
  {
   "cell_type": "markdown",
   "metadata": {},
   "source": [
    "## 2ª pergunda\n",
    "### O vendedor que mais aplicou descontos em produtos de higiene, o total de desconto aplicado e o desconto médio"
   ]
  },
  {
   "cell_type": "code",
   "execution_count": 17,
   "metadata": {
    "collapsed": false
   },
   "outputs": [],
   "source": [
    "#criando uma nova coluna no dataframe que terá o valor do desconto no tipo numeric\n",
    "df['Desconto_numeric'] = df['Desconto'].str.replace(',','.')\n",
    "df['Desconto_numeric'] = pd.to_numeric(df['Desconto_numeric'])"
   ]
  },
  {
   "cell_type": "code",
   "execution_count": 27,
   "metadata": {
    "collapsed": false
   },
   "outputs": [
    {
     "name": "stdout",
     "output_type": "stream",
     "text": [
      "Vendedor D 12.18\n",
      "Vendedor G 34.109999999999985\n",
      "Vendedor E 20.45\n",
      "Vendedor A 89.00999999999996\n",
      "Vendedor B 9.42\n",
      "Vendedor C 8.42\n",
      "Vendedor F 1.17\n"
     ]
    }
   ],
   "source": [
    "#looping na lista de vendedores para verificar quem deu mais descontos\n",
    "vendedores = df['Vendedor'].unique()\n",
    "for i in vendedores:\n",
    "    print('Vendedor '+i+' '+ str(df.loc[(df['Vendedor']==i) & (df['Categoria Produto']=='HIGIENE'), 'Desconto_numeric'].sum()))"
   ]
  },
  {
   "cell_type": "code",
   "execution_count": 29,
   "metadata": {
    "collapsed": false
   },
   "outputs": [
    {
     "data": {
      "text/plain": [
       "0.6692481203007516"
      ]
     },
     "execution_count": 29,
     "metadata": {},
     "output_type": "execute_result"
    }
   ],
   "source": [
    "df.loc[(df['Vendedor']=='A') & (df['Categoria Produto']=='HIGIENE'), 'Desconto_numeric'].mean()"
   ]
  },
  {
   "cell_type": "markdown",
   "metadata": {},
   "source": [
    "## Resposta da 2ª pergunta\n",
    "### O vendedor que mais aplicou descontos em produtos de higiene foi o vendedor A, com um total de 89 reais e com o desconto médio de 0.67 centavos."
   ]
  },
  {
   "cell_type": "markdown",
   "metadata": {},
   "source": [
    "## 3ª pergunta\n",
    "### O cliente que teve o custo médio mais alto em produtos de casa e a quantidade total de itens adquiridos por ele"
   ]
  },
  {
   "cell_type": "code",
   "execution_count": 31,
   "metadata": {
    "collapsed": true
   },
   "outputs": [],
   "source": [
    "#criando uma nova coluna no dataframe que terá o valor do preço unitário no tipo numeric\n",
    "df['Preço_U_numeric'] = df['Preço Unitário'].str.replace(',','.')\n",
    "df['Preço_U_numeric'] = pd.to_numeric(df['Preço_U_numeric'])"
   ]
  },
  {
   "cell_type": "code",
   "execution_count": 32,
   "metadata": {
    "collapsed": true
   },
   "outputs": [],
   "source": [
    "#criando coluna com o custo total da compra\n",
    "df['Custo total'] = (df['Quantidade'] * df['Preço_U_numeric']) - df['Desconto_numeric']"
   ]
  },
  {
   "cell_type": "code",
   "execution_count": 58,
   "metadata": {
    "collapsed": false
   },
   "outputs": [],
   "source": [
    "#cliente com maior média de custo em produtos da categoria casa\n",
    "cliente_maior_media=df[df['Categoria Produto'] == 'CASA'].groupby('Nome Cliente')['Custo total'].mean().nlargest(1).index[0]"
   ]
  },
  {
   "cell_type": "code",
   "execution_count": 59,
   "metadata": {
    "collapsed": false
   },
   "outputs": [
    {
     "data": {
      "text/plain": [
       "'SUPERMERCADO BARONESA LTDA'"
      ]
     },
     "execution_count": 59,
     "metadata": {},
     "output_type": "execute_result"
    }
   ],
   "source": [
    "cliente_maior_media"
   ]
  },
  {
   "cell_type": "code",
   "execution_count": 60,
   "metadata": {
    "collapsed": false
   },
   "outputs": [
    {
     "data": {
      "text/plain": [
       "250"
      ]
     },
     "execution_count": 60,
     "metadata": {},
     "output_type": "execute_result"
    }
   ],
   "source": [
    "#quantidade de itens da categoria casa adquirido pelo cliente com maior média de custo\n",
    "df.loc[(df['Categoria Produto'] == 'CASA') & (df['Nome Cliente'] == cliente_maior_media), 'Quantidade'].sum()"
   ]
  },
  {
   "cell_type": "markdown",
   "metadata": {},
   "source": [
    "## Resposta da 3ª pergunta\n",
    "### O cliente que teve o custo médio mais alto em produtos de casa foi o SUPERMECADO BARONESA LTDA e a quantidade total de itens adquiridos por ele nessa categoria foi 250 itens."
   ]
  }
 ],
 "metadata": {
  "kernelspec": {
   "display_name": "Python 3",
   "language": "python",
   "name": "python3"
  },
  "language_info": {
   "codemirror_mode": {
    "name": "ipython",
    "version": 3
   },
   "file_extension": ".py",
   "mimetype": "text/x-python",
   "name": "python",
   "nbconvert_exporter": "python",
   "pygments_lexer": "ipython3",
   "version": "3.6.0"
  }
 },
 "nbformat": 4,
 "nbformat_minor": 2
}
